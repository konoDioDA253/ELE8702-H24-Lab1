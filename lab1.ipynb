{
 "cells": [
  {
   "cell_type": "markdown",
   "id": "e8deb7a4",
   "metadata": {},
   "source": [
    "   # Laboratoire 1 ele8702 \n",
    "   ## Hiver 2024"
   ]
  },
  {
   "cell_type": "markdown",
   "id": "e32487da",
   "metadata": {},
   "source": [
    "## Introduction"
   ]
  },
  {
   "cell_type": "markdown",
   "id": "b99e0ba2",
   "metadata": {},
   "source": [
    "Pour faire suite au Lab0 dans lequel vous avez appris à trouver les coordonnées des Antennes et des UEs, vous allez travailler dans ce laboratoire sur le processus d'association des UEs aux antennes utilisant la métrique de pertes en espace libre (pathloss) donnée par les formules de Okumura-Hata. Dans le prochain laboratoire nous utiliserons par contre les formules du 3GPP (voir [ici](https://www.etsi.org/deliver/etsi_tr/138900_138999/138901/16.01.00_60/tr_138901v160100p.pdf) sections 7.4.1 et 7.4.2).\n",
    "\n",
    "\n"
   ]
  },
  {
   "cell_type": "markdown",
   "id": "88d61232",
   "metadata": {},
   "source": [
    "## Énoncé du problème"
   ]
  },
  {
   "cell_type": "markdown",
   "id": "7e97bced",
   "metadata": {},
   "source": [
    "Nous avons un terrain rectangulaire. Nous devons placer sur ce terrain **25 antennes** et **300 UEs**. Toutes les antennes qui seront placées sur le terrain sont du même type. Par contre, les UEs peuvent être de type différent. Chaque type de UE est caractérisé par l'application qu'il contient. Parmi les 300 UEs, **100 vont tourner l'application 1 et 200 l'application 2.** Les antennes doivent être placées **sur une grille** alors que les UEs doivent être placés de **facon aléatoire.**  Nous avons une base de données (fichier ```devices_db.yaml```) qui spécifie les caractéristiques des différents types d'équipements (antennes et UEs). Cette base de données vous sera fournie (voir section d'élements fournis). "
   ]
  },
  {
   "cell_type": "markdown",
   "id": "916d9174",
   "metadata": {},
   "source": [
    "## Objectifs\n",
    "- Simuler l'assignation des UEs aux antennes dans un réseau cellulaire\n",
    "    - Considérer **la perte en espace libre minimale** entre un UE et toutes les antennes comme métrique d'association en utilisant les formules de Okumura-Hata \n",
    "    \n",
    "       "
   ]
  },
  {
   "cell_type": "markdown",
   "id": "a2c61190",
   "metadata": {},
   "source": [
    "## Données d'entrée\n",
    "\n",
    "  - **fichier de cas**:\n",
    "       - créé pour chaque cas en étude. Vous devez modifier le fichier de cas utilisé dans le Lab0 pour considérer les modèles de pertes tel qu'expliqué ci-dessous.    \n",
    "        \n",
    "  - **base de donnée des équipements (fichier ```devices_db.yaml```)**:\n",
    "       - elle est unique pour tous les cas d'étude. Elle a été légèrement modifiée par rapport au Lab0 (voir ci-dessous). "
   ]
  },
  {
   "cell_type": "markdown",
   "id": "f5d4a9d5",
   "metadata": {},
   "source": [
    "### Modification de format d'un fichier de cas"
   ]
  },
  {
   "cell_type": "markdown",
   "id": "e8b55886",
   "metadata": {},
   "source": [
    "- Le fichier de cas sera modifié pour tenir compte des spécificités de la formule de calcul de pertes en espace libre (pathloss).\n",
    "- La modification du fichier de cas consiste à éliminer la section SCENARIO du Lab0 et ajouter la section PATHLOSS. Le PATHLOSS est caractérisé par le modèle de pathloss (i.e. 3gpp, okumura, COST, etc) et par le nom spécifique du scénario de chaque modèle (i.e., le ```UMI```, ```RMa```, etc pour le 3gpp, ```urban_large```, ```urban_small```, ```suburban``` ou``` open``` pour Okumura-Hata )"
   ]
  },
  {
   "cell_type": "markdown",
   "id": "f2699e47",
   "metadata": {},
   "source": [
    "```python\n",
    "###############################################\n",
    "#                                             #\n",
    "#         Case 5:                             #\n",
    "#            File: case5.yaml                 #\n",
    "#            Description: Etude de pathloss   #\n",
    "#                                             #\n",
    "###############################################\n",
    "ETUDE_PATHLOSS:\n",
    "   PATHLOSS :\n",
    "       model : \n",
    "       scenario : \n",
    "```"
   ]
  },
  {
   "cell_type": "markdown",
   "id": "1b2e261b",
   "metadata": {},
   "source": [
    "## Élements Fournis"
   ]
  },
  {
   "cell_type": "markdown",
   "id": "85a4cc04",
   "metadata": {},
   "source": [
    "### 1. Base de données des dispositifs ```devices_db.yaml``` "
   ]
  },
  {
   "cell_type": "markdown",
   "id": "fad3147a",
   "metadata": {},
   "source": [
    "Son utilisation est obligatoire. Pour le lab1 elle ne peut pas être modifiée. De nouveaux modèles de dispositifs ont été ajoutés par rapport au Lab0."
   ]
  },
  {
   "cell_type": "markdown",
   "id": "87c4d6c7",
   "metadata": {},
   "source": [
    "```python\n",
    "################################################\n",
    "#                                              #\n",
    "#     devices_db:                              #\n",
    "#     File: devices_db.yaml                    #\n",
    "#     Description: Base de données avec        #\n",
    "#                  info des dispositifs        #\n",
    "#                                              #\n",
    "################################################\n",
    "ANTENNAS:\n",
    "  Antenna1:\n",
    "    type: antenna\n",
    "    name: Antenna1\n",
    "    height: 10 \n",
    "    frequency:  28 #GHz\n",
    "    gain:  40\n",
    "#\n",
    "  Antenna2:\n",
    "    type: antenna\n",
    "    name: Antenna2\n",
    "    height: 35\n",
    "    frequency:  0.9 #GHz\n",
    "    gain:  45\n",
    "#\n",
    "  Antenna3:\n",
    "    type: antenna\n",
    "    name: Antenna3\n",
    "    height: 10\n",
    "    frequency:  28 #GHz\n",
    "    gain:  45\n",
    "#\n",
    "  Antenna4:\n",
    "    type: antenna\n",
    "    name: Antenna4\n",
    "    height: 37\n",
    "    frequency:  0.9 #GHz\n",
    "    gain:  45\n",
    "        \n",
    "#\n",
    "   Antenna5:\n",
    "    type: antenna\n",
    "    name: Antenna5\n",
    "    height: 37\n",
    "    frequency:  0.250 #GHz\n",
    "    gain:  30 \n",
    "        \n",
    "#\n",
    "   Antenna6:\n",
    "    type: antenna\n",
    "    name: Antenna6\n",
    "    height: 20\n",
    "    frequency:  1.4 #GHz\n",
    "    gain:  30 \n",
    "        \n",
    "#\n",
    "   Antenna7:\n",
    "    type: antenna\n",
    "    name: Antenna7\n",
    "    height: 30\n",
    "    frequency:  3.2 #GHz\n",
    "    gain:  35 \n",
    "        \n",
    "UES:\n",
    "  UE1-App1:\n",
    "    type: ue\n",
    "    name: UE1-App1\n",
    "    app: app1\n",
    "    height:  1.5\n",
    "\n",
    "  UE2-App2:\n",
    "    type: ue\n",
    "    name: UE2-App2\n",
    "    app: app2\n",
    "    height:  1.5\n",
    "```"
   ]
  },
  {
   "cell_type": "markdown",
   "id": "ca9a426d",
   "metadata": {},
   "source": [
    "### 2. Classes"
   ]
  },
  {
   "cell_type": "markdown",
   "id": "0e7f0463",
   "metadata": {},
   "source": [
    "Les classes ci-dessous montrent les attributs obligatoires qui décrivent les objects Antenna et UE. D'autres attributs et ou méthodes peuvent être ajoutés."
   ]
  },
  {
   "cell_type": "code",
   "execution_count": 11,
   "id": "9f979a0b-eb2d-41cb-9e6a-06792135b72a",
   "metadata": {},
   "outputs": [],
   "source": [
    "class Antenna:\n",
    "\n",
    "     def __init__(self, id):\n",
    "        self.id = id          #id de l'antenne (int)\n",
    "        self.frequency = None # Antenna frequency in GHz\n",
    "        self.height = None    # Antenna height\n",
    "        self.group = None     # group défini dans la base de données (str)\n",
    "        self.coords = None    # tuple contenant les coordonnées (x,y) \n",
    "        self.assoc_ues = []   # liste avec les id des UEs associés à l'antenne\n",
    "        self.scenario = None  # pathloss scénario tel que lu du fichier de cas (str)\n",
    "        self.gen = None       # type de géneration de coordonnées: 'g', 'a', etc. (str)\n",
    "\n",
    "    \n",
    "    \n",
    "class UE:\n",
    "\n",
    "     def __init__(self, id, app_name):\n",
    "        self.id= id           # id de l'UE (int)\n",
    "        self.height = None    # UE height\n",
    "        self.group = None     # group défini dans la base de données (str)\n",
    "        self.coords=None      # tuple contenant les coordonnées (x,y) \n",
    "        self.app=app_name     # nom de l'application qui tourne dans le UE (str)\n",
    "        self.assoc_ant=None   # id de l'antenne associée à l'UE (int)\n",
    "        self.los = True       # LoS ou non (bool)\n",
    "        self.gen = None       # type de géneration de coordonnées: 'g', 'a', etc. (str)\n",
    "    \n",
    "\n",
    "    "
   ]
  },
  {
   "cell_type": "markdown",
   "id": "28193754-5c62-4c55-9bfc-2c495763b77a",
   "metadata": {},
   "source": [
    "### 3. Fonction d'erreur"
   ]
  },
  {
   "cell_type": "code",
   "execution_count": 12,
   "id": "1bd19520-a6d4-4051-bd3c-d4cd1a8b5642",
   "metadata": {},
   "outputs": [],
   "source": [
    "def ERROR(msg , code = 1):\n",
    "    print(\"\\n\\n\\nERROR\\nPROGRAM STOPPED!!!\\n\")\n",
    "    if msg:\n",
    "        print(msg)\n",
    "    print(f\"\\n\\texit code = {code}\\n\\n\\t\\n\")\n",
    "    sys.exit(code)"
   ]
  },
  {
   "cell_type": "markdown",
   "id": "1a6de327",
   "metadata": {},
   "source": [
    "## Composantes indispensables du programme ```lab1_eqn.py```"
   ]
  },
  {
   "cell_type": "markdown",
   "id": "91cb0041",
   "metadata": {},
   "source": [
    "- Le programme doit respecter la structure suivante (la même utilisée dans le lab0). En plus des fonctions que vous allez créér, il est impératif que les fonctions ci-dessous existent. La façon de démarrer votre programme reste la même que pour le lab0, c-à-d que que la fonction ```main ()``` est reponsable du démarrage du restant du programme. \n",
    "\n",
    "- La fonction ```lab0 (data_case)``` du laboratoire précédent est maintenant appelée ```lab1 (data_case)```. "
   ]
  },
  {
   "cell_type": "markdown",
   "id": "d0ad406c-fc2d-47a0-9e44-38cf9c750d2a",
   "metadata": {},
   "source": [
    "        .\n",
    "        .\n",
    "        .\n",
    "        .\n",
    "     Reste du programme (Vos fonctions)\n",
    "        .\n",
    "        .\n",
    "        .\n",
    "        ."
   ]
  },
  {
   "cell_type": "code",
   "execution_count": null,
   "id": "c16a856d-6e5a-4a40-8f97-5f0b9b136dd2",
   "metadata": {},
   "outputs": [],
   "source": [
    "def lab1 (data_case):\n",
    "    #TODO ....\n",
    "    # antennas est une liste qui contient les objets de type Antenna\n",
    "    # ues est une liste qui contient les objets de type UE\n",
    "    #\n",
    "    # antennas = [ant0,ant1,...] \n",
    "    #            ant1, ant2 etc sont des instances (objets) de la classe Antenna\n",
    "    # ues = [ue0, ue1,...] \n",
    "    #             ue0, ue1, etc sont des instances (objets) de la classe UE\n",
    "    # avant de faire le retour, les objets appartenant aux listes antennas et ues \n",
    "    # doivent avoir leur coordonées initialisées\n",
    "    # CETTE FONCTION EST OBLIGATOIRE\n",
    "    return (antennas,ues)\n",
    "    \n",
    "def okumura (argument1, argument2, ...):\n",
    "    #TODO ....\n",
    "    # C'est à vous décider le nombre et type d'arguments utilisés pour\n",
    "    #faire le calcul de pathloss avec le modèle d'Okumura-Hata\n",
    "    # CETTE FONCTION EST OBLIGATOIRE\n",
    "    return pathloss\n",
    "\n",
    "def treat_cli_args(arg):\n",
    "    # arg est une liste qui contient les arguments utilisés lors de l'appel du programme par CLI. \n",
    "    # Cette fonction doit retourner le nom du fichier de cas à partir de l'interface de commande (CLI)\n",
    "    #... \n",
    "    # TODO\n",
    "    #....\n",
    "    # CETTE FONCTION EST OBLIGATOIRE\n",
    "    # À noter que dans cette fonction il faut ajouter les vérifications qui s'imposent\n",
    "    # par exemple, nombre d'arguments appropriés, existance du fichier de cas, etc.\n",
    "    return case_file_name\n",
    "\n",
    "def main(arg):\n",
    "    case_file_name = treat_cli_args(arg)\n",
    "    data_case = read_yaml_file(case_file_name)\n",
    "    #\n",
    "    #TODO les instructions de main qui vont faire appel aux autres fonctions du programme\n",
    "    #.....\n",
    "\n",
    "if __name__ == '__main__':\n",
    "    # sys.argv est une liste qui contient les arguments utilisés lors de l'appel \n",
    "    # du programme à partir du CLI. Cette liste est créée automatiquement par Python. Vous devez \n",
    "    # juste inscrire l'argument tel que montré ci-dessous.\n",
    "    main(sys.argv[1:])\n"
   ]
  },
  {
   "cell_type": "markdown",
   "id": "842ab68c-3ab4-45ba-b9c5-004d1362a043",
   "metadata": {},
   "source": [
    "\n",
    "   - Les classes Antenna et UE ci-dessus doivent apparaître tel quel dans votre programme (fournies)\n",
    "   - La fonction ```get_lattice_coords``` vous permet de trouver des coordonnées en grille (fournie lab0)\n",
    "   - La fonction ```get_from_dict``` vous permet de sortir la valeur d'une clé d'un dictionnaire (fournie lab0)\n",
    "   - La fonction ```read_yaml_file``` vous permet de lire un fichier ```.yaml``` (fournie lab0)    - La fonction ```gen_random_coords``` doit trouver des coordonnées aléatoires (développée lab0)\n",
    "   - La fonction ```lab1``` doit retourner une liste des objets antenna et une liste des objets ues (à développer)\n",
    "   - La fonction ```treat_cli_args``` retourne le nom du fichier de cas à partir de l'interface de commande (CLI) développée au lab0)\n",
    "   - La fonction ```main``` qui contient des instructions pour faire appel aux autres fonctions du programme (à développer). \n",
    "   - La fonction ```okumura``` doit faire le calcul de pathloss entre un UE et une antenna en utilisant les formules de Okumura-Hata pour un scenario donné. Elle doit retourner une valeur de pathloss.\n",
    "   - **Note: les définitions de fonctions main et treat_cli_args ainsi que l'appel de main doivent OBLIGATOIREMENT respecter la syntaxe montrée ci-haut**\n",
    "\n",
    "    \n",
    "       définition de main:\n",
    "             ```def main(arg):``` <br>\n",
    "     \n",
    "       appel de main:\n",
    "            ``` main(sys.argv[1:])``` <br>\n",
    "          \n",
    "       définition de treat_cli_args:\n",
    "            ``` treat_cli_args(arg):```"
   ]
  },
  {
   "cell_type": "markdown",
   "id": "c0a12ed9-3e75-4707-bcec-0b996d08c1bb",
   "metadata": {},
   "source": [
    "## Livrables\n"
   ]
  },
  {
   "cell_type": "markdown",
   "id": "ac7e91d4-4d56-4e98-abf1-3537817bc775",
   "metadata": {},
   "source": [
    " 1a) Le programme python, ```lab1_eqn.py```. \n",
    "Ce programme doit obligatoirement démarrer, **sans erreurs**, à partir du terminal (CLI) avec l'instruction ```python lab1_eqn.py lab1_eqn_cas.yaml```\n",
    "\n",
    " 1b) Tout autre fichier necéssaire à faire rouler le programme décrit dans 1a).\n",
    "   \n",
    "   **Note**: ne pas oublier de substituer le ```n``` par le numéro de votre équipe.   "
   ]
  },
  {
   "cell_type": "markdown",
   "id": "64b714cf",
   "metadata": {},
   "source": [
    "2. Un **fichier de pathloss**. Ce fichier de texte doit être appelé ```lab1_eqn_pl.txt```. Il contient les valeurs de pathloss calculées par le modèle Okumura-Hata avec le scénario de votre choix (```urban_large```, ```urban_small```, ```suburban``` ou``` open```). Ce fichier doit contenir le pathloss de **toutes les combinaisons** UE-Antennes. Le format de chaque ligne du fichier doit être le suivant:\n",
    "\n",
    "    - première colonne: id de l'UE\n",
    "    - deuxième colonne: id de l'antenne\n",
    "    - troisième colonne: pathloss entre l'UE et l'antenne\n",
    "    - quatrième colonne: modèle de pathloss utilisé (```okumura```) écrit tout en minuscule\n",
    "    - cinquième colonne : scénario considéré \n",
    "    \n",
    "    Les colonnes doivent obligatoirement être séparées exclusivement par des espaces (un ou plus). Ne pas ajouter aucune autre information ou ligne supplémentaire. \n",
    "    \n",
    "    Voici un exemple: "
   ]
  },
  {
   "cell_type": "code",
   "execution_count": null,
   "id": "6c87dd50-cdf5-4c3c-b73b-7a1903de37a3",
   "metadata": {},
   "outputs": [],
   "source": [
    "                   .\n",
    "                   .\n",
    "                   .\n",
    "0\t21\t136.23413791338908\tokumura\turban_large\n",
    "0\t22\t140.53336631359366\tokumura\turban_large\n",
    "0\t23\t144.1946635361489\tokumura\turban_large\n",
    "0\t24\t147.26220692687684\tokumura\turban_large\n",
    "1\t0\t147.37758299886258\tokumura\turban_large\n",
    "1\t1\t145.1453323273901\tokumura\turban_large\n",
    "1\t2\t143.06428369505159\tokumura\turban_large\n",
    "1\t3\t141.55139566627122\tokumura\turban_large\n",
    "1\t4\t141.11628892983626\tokumura\turban_large\n",
    "                   .\n",
    "                   .\n",
    "                   ."
   ]
  },
  {
   "cell_type": "markdown",
   "id": "d692fd34",
   "metadata": {},
   "source": [
    "Dans l'exemple ci-haut le pathloss entre le UE 0 et l'antenne 24 est de 147.26... dB.\n",
    "Le pathloss entre le UE 1 et l'antenne 3 est de 141.55... dB."
   ]
  },
  {
   "cell_type": "markdown",
   "id": "dddf5934",
   "metadata": {},
   "source": [
    "3. Un fichier **d'association d'antennes**. Ce fichier de texte doit être appelé ```lab1_eqn_assoc_ant.txt```. Il montre **pour chaque antenne**, la liste des ids des UEs qu'y sont associés dans le cas des pathloss calculés. Utiliser le format suivant:\n",
    "\n",
    "    - première colonne: id de l'antenne\n",
    "    - deuxième colonne, troisième colonne, etc. les id des UEs associés à l'antenne.\n",
    "      Si aucun UEs n'y est rattaché, laisser un blanc après avoir marqué le id de l'antenne\n",
    "      \n",
    "Les ids des UEs associés à l'antenne devront se trouver dans l'attribut ```assoc_ues``` de chaque objet de type Antenna"
   ]
  },
  {
   "cell_type": "markdown",
   "id": "c0dd6e88-9e16-4a5d-83ff-d7f414f6eaf4",
   "metadata": {},
   "source": [
    "Exemple de fichier d'association d'antennes"
   ]
  },
  {
   "cell_type": "code",
   "execution_count": null,
   "id": "c6088c0f-0258-4daf-ac2b-248712122255",
   "metadata": {},
   "outputs": [],
   "source": [
    "0\t3\t6\n",
    "1\t14\t29\t42\n",
    "2\n",
    "3\t7\t15\t45\t46\n",
    "4\t19\t25\t28\t34\n",
    "5\t22\n",
    "6\n",
    "7\n",
    ".\n",
    ".\n",
    "."
   ]
  },
  {
   "cell_type": "markdown",
   "id": "e0725515",
   "metadata": {},
   "source": [
    "Dans cet exemple l'antenne 3 est associée aux UEs 7,15, 45 et 46. Par contre, les antennes 2, 6 et 7 n'ont aucun UE associé."
   ]
  },
  {
   "cell_type": "markdown",
   "id": "218a55ae",
   "metadata": {},
   "source": [
    "4.  Un fichier **d'association d'UEs**. Ce fichier de texte doit s'appeler ```lab1_eqn_assoc_ue.txt```. Il montre **pour chaque UE** l'antenne à laquelle il est associé. Le format doit être le suivant:\n",
    "    - première colonne: id de l'UE\n",
    "    - deuxième colonne : id de l'antenne associée\n",
    "    \n",
    "Le id de l'antenne associée à l'UE doit se trouver dans l'attribut ```assoc_ant``` de chaque objet de type UE."
   ]
  },
  {
   "cell_type": "code",
   "execution_count": null,
   "id": "03ed2e60",
   "metadata": {},
   "outputs": [],
   "source": [
    "Exemple de fichier d'association d'UEs"
   ]
  },
  {
   "cell_type": "code",
   "execution_count": null,
   "id": "62f38e14-476d-4b5a-8941-8e2e199626fa",
   "metadata": {},
   "outputs": [],
   "source": [
    "0\t10\n",
    "1\t24\n",
    "2\t20\n",
    "3\t0\n",
    "4\t22\n",
    "5\t20\n",
    ".\n",
    ".\n",
    "."
   ]
  },
  {
   "cell_type": "markdown",
   "id": "75e07498",
   "metadata": {},
   "source": [
    "Cet exemple montre que le UE 2 est associé à l'antenne 20 et que le UE 3 est associé à l'antenne 0."
   ]
  },
  {
   "cell_type": "markdown",
   "id": "7eb46c5d",
   "metadata": {},
   "source": [
    "5. Le fichier de coordonnées appelé ```lab1_eqn_coords.txt``` dont le format a été donné au lab0. \n",
    "\n",
    "**Note:** contrairement au lab0, imprimer toutes les chiffres significatifs (pas seulement un chiffre décimal)."
   ]
  },
  {
   "cell_type": "markdown",
   "id": "5ed0d894",
   "metadata": {},
   "source": [
    "6. Le fichier de cas utilisé appelé ```lab1_eqn_cas.yaml``` ainsi que le fichier ```devices_db.yaml```"
   ]
  },
  {
   "cell_type": "markdown",
   "id": "02a8dd8b",
   "metadata": {},
   "source": [
    "## Réquis et autres détails"
   ]
  },
  {
   "cell_type": "markdown",
   "id": "fdb2cbfb",
   "metadata": {},
   "source": [
    "- Le programme doit tourner, dans tout ordinateur, sans aucune manipulation ni ajout de fichiers ou de commandes. **L'utilisateur ne devra jamais avoir à manipuler de quelque façon que ce soit le code source**.\n",
    "- Tout changement de valeurs doit être communiqué à partir du fichier de cas.\n",
    "- Le programme doit fonctionner avec **n'importe lequel fichier de cas** (respectant le format indiqué) fourni par l'utilisateur.\n",
    "- Tous les ```Réquis pour tous les laboratoires``` indiqués au lab0 s'appliquent.\n",
    "- Les fichiers doivent être déposés individuellement sur Moodle, sans faire des zip et sans avoir des structures hiérarchiques.\n",
    "- Un seul dépôt par équipe.\n"
   ]
  },
  {
   "cell_type": "markdown",
   "id": "76600039",
   "metadata": {},
   "source": [
    "## Barême de correction"
   ]
  },
  {
   "cell_type": "markdown",
   "id": "9bd27099-a46f-443b-8c4f-909e6c7d2565",
   "metadata": {},
   "source": [
    "1. Structure du programme (25%)\n",
    "\t\t\t\n",
    "2. Robustesse du programme (30%)\t\n",
    "\t\n",
    "\n",
    "3. Résultats (30%)\n",
    "\t\t\n",
    "4. Suivi des consignes (15%)\n",
    "\t\n",
    "**Note** Si le programme ne demarre pas quand on utilise la commande CLI indiquée , il y a une pénalité minimale de 40%\n",
    "\n",
    "\n",
    "\n",
    "\n"
   ]
  }
 ],
 "metadata": {
  "kernelspec": {
   "display_name": "Python 3 (ipykernel)",
   "language": "python",
   "name": "python3"
  },
  "language_info": {
   "codemirror_mode": {
    "name": "ipython",
    "version": 3
   },
   "file_extension": ".py",
   "mimetype": "text/x-python",
   "name": "python",
   "nbconvert_exporter": "python",
   "pygments_lexer": "ipython3",
   "version": "3.9.18"
  }
 },
 "nbformat": 4,
 "nbformat_minor": 5
}
