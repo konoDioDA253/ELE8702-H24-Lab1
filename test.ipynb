{
 "cells": [
  {
   "cell_type": "code",
   "execution_count": 30,
   "metadata": {},
   "outputs": [],
   "source": [
    "import sys\n",
    "import yaml \n"
   ]
  },
  {
   "cell_type": "code",
   "execution_count": 31,
   "metadata": {},
   "outputs": [],
   "source": [
    "def get_from_dict(key, data, res=None, curr_level = 1, min_level = 1):\n",
    "    \"\"\"Fonction qui retourne la valeur de n'importe quel clé du dictionnaire\n",
    "       key: clé associé à la valeur recherchée\n",
    "       data: dictionnaire dans lequel il faut chercher\n",
    "       les autres sont des paramètres par défaut qu'il ne faut pas toucher\"\"\"\n",
    "    if res:\n",
    "        return res\n",
    "    else:\n",
    "        # data IS a dictionary\n",
    "        for k, v in data.items():\n",
    "            if k == key and curr_level >= min_level:\n",
    "                #print(f\"return data[k] = {data[k]} k = {k}\")\n",
    "                return data[k]\n",
    "            if type(v) is dict:\n",
    "                level = curr_level + 1\n",
    "                res = get_from_dict(key, v, res, level, min_level)\n",
    "    return res "
   ]
  },
  {
   "cell_type": "code",
   "execution_count": 32,
   "metadata": {},
   "outputs": [],
   "source": [
    "# Fonction verifiant la présence d'un string dans un fichier YAML\n",
    "# Retourne True si le string est présent et False sinon\n",
    "def check_string_presence_in_yaml(string_to_check, yaml_data):\n",
    "    for device_type, devices in yaml_data.items():\n",
    "        for device_name, device_info in devices.items():\n",
    "            if string_to_check == device_name:\n",
    "                return True\n",
    "    return False\n",
    "\n",
    "def ERROR(msg , code = 1):\n",
    "    print(\"\\n\\n\\nERROR\\nPROGRAM STOPPED!!!\\n\")\n",
    "    if msg:\n",
    "        print(msg)\n",
    "    print(f\"\\n\\texit code = {code}\\n\\n\\t\\n\")\n",
    "    sys.exit(code)"
   ]
  },
  {
   "cell_type": "code",
   "execution_count": 33,
   "metadata": {},
   "outputs": [],
   "source": [
    "fichier = \"device_db.yaml\"\n",
    "with open(fichier,\"r\" ) as file:\n",
    "    data= yaml.load(file, Loader=yaml. FullLoader)\n",
    "\n",
    "    \n",
    "# next(iter(data))"
   ]
  },
  {
   "cell_type": "code",
   "execution_count": 41,
   "metadata": {},
   "outputs": [],
   "source": [
    "string_extrait = get_from_dict('length', get_from_dict(ue_group,data))\n",
    "string_extrait\n",
    "\n",
    "# print(group_extrait)\n",
    "\n",
    "    \n",
    "\n",
    "# etude_path_loss = get_from_dict(key=\"ETUDE_PATHLOSS\", data=data)\n",
    "# print(etude_path_loss)"
   ]
  },
  {
   "cell_type": "code",
   "execution_count": 21,
   "metadata": {},
   "outputs": [
    {
     "data": {
      "text/plain": [
       "{'model': 'okumura', 'scenario': 'urban_large'}"
      ]
     },
     "execution_count": 21,
     "metadata": {},
     "output_type": "execute_result"
    }
   ],
   "source": [
    "x= etude_path_loss[\"PATHLOSS\"]\n",
    "x"
   ]
  },
  {
   "cell_type": "code",
   "execution_count": 12,
   "metadata": {},
   "outputs": [],
   "source": [
    "antenna1= x[\"Antenna1\"]"
   ]
  },
  {
   "cell_type": "code",
   "execution_count": 13,
   "metadata": {},
   "outputs": [
    {
     "data": {
      "text/plain": [
       "{'number': 25}"
      ]
     },
     "execution_count": 13,
     "metadata": {},
     "output_type": "execute_result"
    }
   ],
   "source": [
    "antenna1"
   ]
  },
  {
   "cell_type": "code",
   "execution_count": 14,
   "metadata": {},
   "outputs": [],
   "source": [
    "n = antenna1[\"number\"]\n"
   ]
  },
  {
   "cell_type": "code",
   "execution_count": 15,
   "metadata": {},
   "outputs": [
    {
     "data": {
      "text/plain": [
       "25"
      ]
     },
     "execution_count": 15,
     "metadata": {},
     "output_type": "execute_result"
    }
   ],
   "source": [
    "n"
   ]
  },
  {
   "cell_type": "code",
   "execution_count": 25,
   "metadata": {},
   "outputs": [
    {
     "name": "stdout",
     "output_type": "stream",
     "text": [
      "25 25\n"
     ]
    }
   ],
   "source": [
    "etude_path_loss1 = get_from_dict(key=\"number\", data=data)\n",
    "etude_path_loss2 = get_from_dict(key=\"number\", data=data)\n",
    "print(etude_path_loss1,etude_path_loss2)"
   ]
  },
  {
   "cell_type": "code",
   "execution_count": null,
   "metadata": {},
   "outputs": [],
   "source": []
  }
 ],
 "metadata": {
  "kernelspec": {
   "display_name": "Python 3",
   "language": "python",
   "name": "python3"
  },
  "language_info": {
   "codemirror_mode": {
    "name": "ipython",
    "version": 3
   },
   "file_extension": ".py",
   "mimetype": "text/x-python",
   "name": "python",
   "nbconvert_exporter": "python",
   "pygments_lexer": "ipython3",
   "version": "3.8.0"
  }
 },
 "nbformat": 4,
 "nbformat_minor": 2
}
