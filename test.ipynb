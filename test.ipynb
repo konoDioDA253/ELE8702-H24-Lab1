{
 "cells": [
  {
   "cell_type": "code",
   "execution_count": null,
   "metadata": {},
   "outputs": [],
   "source": [
    "def get_from_dict(key, data, res=None, curr_level = 1, min_level = 1):\n",
    "    \"\"\"Fonction qui retourne la valeur de n'importe quel clé du dictionnaire\n",
    "       key: clé associé à la valeur recherchée\n",
    "       data: dictionnaire dans lequel il faut chercher\n",
    "       les autres sont des paramètres par défaut qu'il ne faut pas toucher\"\"\"\n",
    "    if res:\n",
    "        return res\n",
    "    else:\n",
    "        # data IS a dictionary\n",
    "        for k, v in data.items():\n",
    "            if k == key and curr_level >= min_level:\n",
    "                #print(f\"return data[k] = {data[k]} k = {k}\")\n",
    "                return data[k]\n",
    "            if type(v) is dict:\n",
    "                level = curr_level + 1\n",
    "                res = get_from_dict(key, v, res, level, min_level)\n",
    "    return res "
   ]
  }
 ],
 "metadata": {
  "language_info": {
   "name": "python"
  }
 },
 "nbformat": 4,
 "nbformat_minor": 2
}
