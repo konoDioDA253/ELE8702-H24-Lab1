{
 "cells": [
  {
   "cell_type": "code",
   "execution_count": 6,
   "metadata": {},
   "outputs": [],
   "source": [
    "def get_from_dict(key, data, res=None, curr_level = 1, min_level = 1):\n",
    "    \"\"\"Fonction qui retourne la valeur de n'importe quel clé du dictionnaire\n",
    "       key: clé associé à la valeur recherchée\n",
    "       data: dictionnaire dans lequel il faut chercher\n",
    "       les autres sont des paramètres par défaut qu'il ne faut pas toucher\"\"\"\n",
    "    if res:\n",
    "        return res\n",
    "    else:\n",
    "        # data IS a dictionary\n",
    "        for k, v in data.items():\n",
    "            if k == key and curr_level >= min_level:\n",
    "                #print(f\"return data[k] = {data[k]} k = {k}\")\n",
    "                return data[k]\n",
    "            if type(v) is dict:\n",
    "                level = curr_level + 1\n",
    "                res = get_from_dict(key, v, res, level, min_level)\n",
    "    return res "
   ]
  },
  {
   "cell_type": "code",
   "execution_count": 4,
   "metadata": {},
   "outputs": [
    {
     "name": "stderr",
     "output_type": "stream",
     "text": [
      "<>:2: SyntaxWarning: invalid escape sequence '\\U'\n",
      "<>:2: SyntaxWarning: invalid escape sequence '\\U'\n",
      "C:\\Users\\Donald\\AppData\\Local\\Temp\\ipykernel_4100\\185717396.py:2: SyntaxWarning: invalid escape sequence '\\U'\n",
      "  case_file = b\"\\Users\\Donald\\Documents\\Cours Poly\\Hiver2024\\ELE8702\\ELE8702-H24-Lab1\\lab1_eq7_cas.yaml\"\n"
     ]
    }
   ],
   "source": [
    "import yaml \n",
    "case_file = b\"\\Users\\Donald\\Documents\\Cours Poly\\Hiver2024\\ELE8702\\ELE8702-H24-Lab1\\lab1_eq7_cas.yaml\"\n",
    "with open(case_file,\"r\" ) as file:\n",
    "    data= yaml.load(file, Loader=yaml. FullLoader)\n",
    "\n",
    "device_file = b\"\\Users\\Donald\\Documents\\Cours Poly\\Hiver2024\\ELE8702\\ELE8702-H24-Lab1\\lab1_eq7_cas.yaml\"\n",
    "with open(device_file,\"r\" ) as file:\n",
    "    data= yaml.load(file, Loader=yaml. FullLoader)\n"
   ]
  },
  {
   "cell_type": "code",
   "execution_count": 17,
   "metadata": {},
   "outputs": [
    {
     "name": "stdout",
     "output_type": "stream",
     "text": [
      "{'PATHLOSS': {'model': 'okumura', 'scenario': 'urban_large'}, 'ANT_COORD_GEN': 'g', 'UE_COORD_GEN': 'a', 'COORD_FILES': {'write': 'lab1_eq7_coords.txt'}, 'DEVICES': {'Antenna1': {'number': 25}, 'Antenna2': {'number': 20}, 'Antenna5': {'number': 40}, 'UE1-App1': {'number': 30}, 'UE2-App2': {'number': 20}}, 'GEOMETRY': {'Surface': {'rectangle': {'length': 5000, 'height': 4000}}}}\n"
     ]
    }
   ],
   "source": [
    "etude_path_loss = get_from_dict(key=\"ETUDE_PATHLOSS\", data=data)\n",
    "print(etude_path_loss)"
   ]
  },
  {
   "cell_type": "code",
   "execution_count": 21,
   "metadata": {},
   "outputs": [
    {
     "data": {
      "text/plain": [
       "{'model': 'okumura', 'scenario': 'urban_large'}"
      ]
     },
     "execution_count": 21,
     "metadata": {},
     "output_type": "execute_result"
    }
   ],
   "source": [
    "x= etude_path_loss[\"PATHLOSS\"]\n",
    "x"
   ]
  },
  {
   "cell_type": "code",
   "execution_count": 12,
   "metadata": {},
   "outputs": [],
   "source": [
    "antenna1= x[\"Antenna1\"]"
   ]
  },
  {
   "cell_type": "code",
   "execution_count": 13,
   "metadata": {},
   "outputs": [
    {
     "data": {
      "text/plain": [
       "{'number': 25}"
      ]
     },
     "execution_count": 13,
     "metadata": {},
     "output_type": "execute_result"
    }
   ],
   "source": [
    "antenna1"
   ]
  },
  {
   "cell_type": "code",
   "execution_count": 14,
   "metadata": {},
   "outputs": [],
   "source": [
    "n = antenna1[\"number\"]\n"
   ]
  },
  {
   "cell_type": "code",
   "execution_count": 15,
   "metadata": {},
   "outputs": [
    {
     "data": {
      "text/plain": [
       "25"
      ]
     },
     "execution_count": 15,
     "metadata": {},
     "output_type": "execute_result"
    }
   ],
   "source": [
    "n"
   ]
  },
  {
   "cell_type": "code",
   "execution_count": 25,
   "metadata": {},
   "outputs": [
    {
     "name": "stdout",
     "output_type": "stream",
     "text": [
      "25 25\n"
     ]
    }
   ],
   "source": [
    "etude_path_loss1 = get_from_dict(key=\"number\", data=data)\n",
    "etude_path_loss2 = get_from_dict(key=\"number\", data=data)\n",
    "print(etude_path_loss1,etude_path_loss2)"
   ]
  },
  {
   "cell_type": "code",
   "execution_count": null,
   "metadata": {},
   "outputs": [],
   "source": []
  }
 ],
 "metadata": {
  "kernelspec": {
   "display_name": "Python 3",
   "language": "python",
   "name": "python3"
  },
  "language_info": {
   "codemirror_mode": {
    "name": "ipython",
    "version": 3
   },
   "file_extension": ".py",
   "mimetype": "text/x-python",
   "name": "python",
   "nbconvert_exporter": "python",
   "pygments_lexer": "ipython3",
   "version": "3.12.1"
  }
 },
 "nbformat": 4,
 "nbformat_minor": 2
}
